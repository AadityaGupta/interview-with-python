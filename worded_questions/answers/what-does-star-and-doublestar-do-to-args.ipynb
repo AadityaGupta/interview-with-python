{
 "cells": [
  {
   "cell_type": "markdown",
   "metadata": {},
   "source": [
    "## What does \\*\\* (double star) and \\* (star) do for Python parameters?"
   ]
  },
  {
   "cell_type": "markdown",
   "metadata": {
    "collapsed": true
   },
   "source": [
    "The \\*args and \\*\\*kwargs is a common idiom to allow arbitrary number of arguments to functions.\n",
    "The *args will give you all function parameters as a tuple:"
   ]
  },
  {
   "cell_type": "code",
   "execution_count": 7,
   "metadata": {
    "collapsed": false
   },
   "outputs": [
    {
     "name": "stdout",
     "output_type": "stream",
     "text": [
      "(1, 2, 3)\n",
      "1__2__3__\n"
     ]
    }
   ],
   "source": [
    "def foo(*args):\n",
    "    print(args) # prints a tuple\n",
    "    string = ''.join([str(a) + '__' for a in args])\n",
    "    print(string)\n",
    "        \n",
    "foo(1,2,3)"
   ]
  },
  {
   "cell_type": "markdown",
   "metadata": {},
   "source": [
    "The \\*\\*kwargs will give you all keyword arguments **except for** those corresponding to a formal parameter as a dictionary."
   ]
  },
  {
   "cell_type": "code",
   "execution_count": 11,
   "metadata": {
    "collapsed": false
   },
   "outputs": [
    {
     "name": "stdout",
     "output_type": "stream",
     "text": [
      "lady diana\n",
      "fox saywhat\n"
     ]
    }
   ],
   "source": [
    "def bar(**kwargs):\n",
    "    for a in kwargs.keys():\n",
    "        print( a, kwargs[a] )\n",
    "        \n",
    "bar(fox='saywhat', lady='diana')"
   ]
  },
  {
   "cell_type": "code",
   "execution_count": null,
   "metadata": {
    "collapsed": true
   },
   "outputs": [],
   "source": []
  }
 ],
 "metadata": {
  "celltoolbar": "Raw Cell Format",
  "kernelspec": {
   "display_name": "Python 3",
   "language": "python",
   "name": "python3"
  },
  "language_info": {
   "codemirror_mode": {
    "name": "ipython",
    "version": 3
   },
   "file_extension": ".py",
   "mimetype": "text/x-python",
   "name": "python",
   "nbconvert_exporter": "python",
   "pygments_lexer": "ipython3",
   "version": "3.5.1"
  }
 },
 "nbformat": 4,
 "nbformat_minor": 0
}
