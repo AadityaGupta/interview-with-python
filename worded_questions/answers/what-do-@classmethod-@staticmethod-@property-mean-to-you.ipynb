{
 "cells": [
  {
   "cell_type": "markdown",
   "metadata": {},
   "source": [
    "## What do these mean to you: @classmethod, @staticmethod, @property?"
   ]
  },
  {
   "cell_type": "markdown",
   "metadata": {},
   "source": [
    "These are decorators. A decorator is a special kind of function that either takes a function and returns a function, or takes a class and returns a class. The @ symbol is just syntactic sugar that allows you to decorate something in a way that's easy to read."
   ]
  },
  {
   "cell_type": "code",
   "execution_count": 9,
   "metadata": {
    "collapsed": false
   },
   "outputs": [
    {
     "name": "stdout",
     "output_type": "stream",
     "text": [
      "Something is happening before some_function() is called.\n",
      "why god?\n",
      "Something is happening after some_function() is called.\n",
      "Something is happening before some_function() is called.\n",
      "Nancy Drew\n",
      "Something is happening after some_function() is called.\n"
     ]
    }
   ],
   "source": [
    "def my_decorator(some_function):\n",
    "\n",
    "    def wrapper():\n",
    "\n",
    "        print(\"Something is happening before some_function() is called.\")\n",
    "\n",
    "        some_function()\n",
    "\n",
    "        print(\"Something is happening after some_function() is called.\")\n",
    "\n",
    "    return wrapper\n",
    "\n",
    "@my_decorator\n",
    "def my_func(stuff=None):\n",
    "    print(\"why god?\")\n",
    "# Is equivalent to\n",
    "\n",
    "def my_func_two():\n",
    "    print(\"Nancy Drew\")\n",
    "\n",
    "my_func_two = my_decorator(my_func_two)\n",
    "my_func()\n",
    "my_func_two()"
   ]
  },
  {
   "cell_type": "markdown",
   "metadata": {},
   "source": [
    "The decorators `@classmethod, @staticmethod and @property` are used on functions defined within classes. Here is how they behave:"
   ]
  },
  {
   "cell_type": "code",
   "execution_count": null,
   "metadata": {
    "collapsed": true
   },
   "outputs": [],
   "source": [
    "class MyClass(object):\n",
    "    def __init__(self):\n",
    "        self._some_property = \"properties are nice\"\n",
    "        self._some_other_property = \"VERY nice\"\n",
    "    def normal_method(*args,**kwargs):\n",
    "        print(\"calling normal_method({0},{1})\".format(args,kwargs))\n",
    "    @classmethod\n",
    "    def class_method(*args,**kwargs):\n",
    "        print(\"calling class_method({0},{1})\".format(args,kwargs))\n",
    "    @staticmethod\n",
    "    def static_method(*args,**kwargs):\n",
    "        print(\"calling static_method({0},{1})\".format(args,kwargs))\n",
    "    @property\n",
    "    def some_property(self,*args,**kwargs):\n",
    "        print(\"calling some_property getter({0},{1},{2})\".format(self,args,kwargs))\n",
    "        return self._some_property\n",
    "    @some_property.setter\n",
    "    def some_property(self,*args,**kwargs):\n",
    "        print(\"calling some_property setter({0},{1},{2})\".format(self,args,kwargs))\n",
    "        self._some_property = args[0]\n",
    "    @property\n",
    "    def some_other_property(self,*args,**kwargs):\n",
    "        print(\"calling some_other_property getter({0},{1},{2})\".format(self,args,kwargs))\n",
    "        return self._some_other_property\n"
   ]
  },
  {
   "cell_type": "code",
   "execution_count": null,
   "metadata": {
    "collapsed": true
   },
   "outputs": [],
   "source": [
    "o = MyClass()\n",
    "# undecorated methods work like normal, they get the current instance (self) as the first argument\n",
    "o.normal_method \n",
    "# <bound method MyClass.normal_method of <__main__.MyClass instance at 0x7fdd2537ea28>>\n",
    "\n",
    "o.normal_method() "
   ]
  },
  {
   "cell_type": "code",
   "execution_count": null,
   "metadata": {
    "collapsed": true
   },
   "outputs": [],
   "source": [
    "# class methods always get the class as the first argument\n",
    "\n",
    "o.class_method\n",
    "# <bound method classobj.class_method of <class __main__.MyClass at 0x7fdd2536a390>>\n",
    "\n",
    "o.class_method()\n",
    "# class_method((<class __main__.MyClass at 0x7fdd2536a390>,),{})\n",
    "\n",
    "o.class_method(1,2,x=3,y=4)\n",
    "# class_method((<class __main__.MyClass at 0x7fdd2536a390>, 1, 2),{'y': 4, 'x': 3})"
   ]
  },
  {
   "cell_type": "code",
   "execution_count": null,
   "metadata": {
    "collapsed": true
   },
   "outputs": [],
   "source": [
    "# static methods have no arguments except the ones you pass in when you call them\n",
    "\n",
    "o.static_method\n",
    "# <function static_method at 0x7fdd25375848>\n",
    "\n",
    "o.static_method()\n",
    "# static_method((),{})\n",
    "\n",
    "o.static_method(1,2,x=3,y=4)\n",
    "# static_method((1, 2),{'y': 4, 'x': 3})"
   ]
  },
  {
   "cell_type": "code",
   "execution_count": null,
   "metadata": {
    "collapsed": true
   },
   "outputs": [],
   "source": [
    "# properties are a way of implementing getters and setters. It's an error to explicitly call them\n",
    "# \"read only\" attributes can be specified by creating a getter without a setter (as in some_other_property)\n",
    "\n",
    "o.some_property\n",
    "# calling some_property getter(<__main__.MyClass instance at 0x7fb2b70877e8>,(),{})\n",
    "# 'properties are nice'\n",
    "\n",
    "o.some_property()\n",
    "# calling some_property getter(<__main__.MyClass instance at 0x7fb2b70877e8>,(),{})\n",
    "# Traceback (most recent call last):\n",
    "#   File \"<stdin>\", line 1, in <module>\n",
    "# TypeError: 'str' object is not callable\n",
    "\n",
    "o.some_other_property\n",
    "# calling some_other_property getter(<__main__.MyClass instance at 0x7fb2b70877e8>,(),{})\n",
    "# 'VERY nice'\n",
    "\n",
    "# o.some_other_property()\n",
    "# calling some_other_property getter(<__main__.MyClass instance at 0x7fb2b70877e8>,(),{})\n",
    "# Traceback (most recent call last):\n",
    "#   File \"<stdin>\", line 1, in <module>\n",
    "# TypeError: 'str' object is not callable\n",
    "\n",
    "o.some_property = \"groovy\"\n",
    "# calling some_property setter(<__main__.MyClass object at 0x7fb2b7077890>,('groovy',),{})\n",
    "\n",
    "o.some_property\n",
    "# calling some_property getter(<__main__.MyClass object at 0x7fb2b7077890>,(),{})\n",
    "# 'groovy'\n",
    "\n",
    "o.some_other_property = \"very groovy\"\n",
    "# Traceback (most recent call last):\n",
    "#   File \"<stdin>\", line 1, in <module>\n",
    "# AttributeError: can't set attribute\n",
    "\n",
    "o.some_other_property\n",
    "# calling some_other_property getter(<__main__.MyClass object at 0x7fb2b7077890>,(),{})\n",
    "# 'VERY nice'"
   ]
  }
 ],
 "metadata": {
  "kernelspec": {
   "display_name": "Python 3",
   "language": "python",
   "name": "python3"
  },
  "language_info": {
   "codemirror_mode": {
    "name": "ipython",
    "version": 3
   },
   "file_extension": ".py",
   "mimetype": "text/x-python",
   "name": "python",
   "nbconvert_exporter": "python",
   "pygments_lexer": "ipython3",
   "version": "3.5.1"
  }
 },
 "nbformat": 4,
 "nbformat_minor": 0
}
