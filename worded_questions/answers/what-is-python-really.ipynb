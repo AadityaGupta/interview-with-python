{
 "cells": [
  {
   "cell_type": "markdown",
   "metadata": {},
   "source": [
    "## What is Python really? You can (and are encouraged) make comparisons to other technologies in your answer.\n",
    "\n",
    "### A Few Key Points\n",
    "\n",
    "* Python is an interpreted language. That means that, unlike languages like C and its variants, Python does not need to be compiled before it is run. Other interpreted languages include PHP and Ruby.\n"
   ]
  },
  {
   "cell_type": "code",
   "execution_count": 3,
   "metadata": {
    "collapsed": false
   },
   "outputs": [
    {
     "name": "stdout",
     "output_type": "stream",
     "text": [
      "This won't be compiled before running. The python interpreter will directly execute these statements.\n"
     ]
    }
   ],
   "source": [
    "string  = \"This line won't be compiled before execution.\"\n",
    "interpreted = \"The python interpreter will directly execute these statements.\"\n",
    "print(string, interpreted)"
   ]
  },
  {
   "cell_type": "markdown",
   "metadata": {},
   "source": [
    "* Python is dynamically typed, this means that you don't need to state the types of variables when you declare them or anything like that. You can do things like `x=111` and then `x=\"I'm a string\"` without error."
   ]
  },
  {
   "cell_type": "code",
   "execution_count": null,
   "metadata": {
    "collapsed": true
   },
   "outputs": [],
   "source": [
    "x = 111 # a number\n",
    "x = \"I'm a string\"\n",
    "y = x # what is y? We didn't declare a type, it is inferred in the assignment."
   ]
  },
  {
   "cell_type": "markdown",
   "metadata": {},
   "source": [
    "* Python is well suited to object orientated programming in that it allows the definition of classes along with composition and inheritance. Python does not have access specifiers (like C++'s public, private), the justification for this point is given as \"we are all adults here\""
   ]
  },
  {
   "cell_type": "markdown",
   "metadata": {},
   "source": [
    "* in Python, functions are first-class objects. This means that they can be assigned to variables, returned from other functions and passed into functions. Classes are also first class objects."
   ]
  },
  {
   "cell_type": "code",
   "execution_count": 4,
   "metadata": {
    "collapsed": false
   },
   "outputs": [
    {
     "name": "stdout",
     "output_type": "stream",
     "text": [
      "5555\n",
      "55\n"
     ]
    },
    {
     "data": {
      "text/plain": [
       "<__main__.Doggy at 0x1e16ff9cb70>"
      ]
     },
     "execution_count": 4,
     "metadata": {},
     "output_type": "execute_result"
    }
   ],
   "source": [
    "def func(x):\n",
    "    print(x)\n",
    "    \n",
    "a_function = func \n",
    "a_function(5555) # this works! \n",
    "\n",
    "class Doggy(object):\n",
    "    def __init__(self, num):\n",
    "        print(num)\n",
    "        \n",
    "dog = Doggy # This isn't instantiation.  We have assigned \"dog\" as a class\n",
    "\n",
    "dog(55) # this works too!"
   ]
  },
  {
   "cell_type": "markdown",
   "metadata": {},
   "source": [
    "* Writing Python code is quick but running it is often slower than compiled languages. Fortunately， Python allows the inclusion of C based extensions so bottlenecks can be optimised away and often are. The numpy package is a good example of this, it's really quite quick because a lot of the number crunching it does isn't actually done by Python"
   ]
  },
  {
   "cell_type": "code",
   "execution_count": null,
   "metadata": {
    "collapsed": true
   },
   "outputs": [],
   "source": [
    "# TODO: Show that it is slow here."
   ]
  },
  {
   "cell_type": "markdown",
   "metadata": {},
   "source": [
    "* Python finds use in many spheres - web applications, automation, scientific modelling, big data applications and many more. It's also often used as \"glue\" code to get other languages and components to play nice."
   ]
  }
 ],
 "metadata": {
  "kernelspec": {
   "display_name": "Python 3",
   "language": "python",
   "name": "python3"
  },
  "language_info": {
   "codemirror_mode": {
    "name": "ipython",
    "version": 3
   },
   "file_extension": ".py",
   "mimetype": "text/x-python",
   "name": "python",
   "nbconvert_exporter": "python",
   "pygments_lexer": "ipython3",
   "version": "3.5.1"
  }
 },
 "nbformat": 4,
 "nbformat_minor": 0
}
